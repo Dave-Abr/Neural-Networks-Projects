{
  "cells": [
    {
      "cell_type": "markdown",
      "metadata": {
        "id": "q0HIE3U-R2AJ"
      },
      "source": [
        "# Contexto\n",
        "\n",
        "---\n",
        "Predecir si un cliente cancelará o no la reserva realizada\n",
        "\n",
        "La base de datos cuenta con 12 atributos regresores más la etiqueta de clase, que son:\n",
        "\n",
        "* **hotel**: : Hotel (H1 = Resort Hotel o H2 = City Hotel)\n",
        "* **is_canceled**: Valor que indica si la reserva se canceló (1) o no (0).\n",
        "\n",
        "* **lead_time**: Número de días transcurridos entre la fecha de entrada de la reserva en el\n",
        "PMS y la fecha de llegada\n",
        "\n",
        "* **arrival_date_year**: Año de la fecha de llegada\n",
        "* **arrival_date_month**: Mes de la fecha de llegada\n",
        "* **arrival_date_week_number**: Número de semana del año de la fecha de llegada\n",
        "* **arrival_date_day_of_month**: Día de la fecha de llegada\n",
        "* **stays_in_weekend_nights**: Número de noches de fin de semana (sábado o domingo)\n",
        "* **stays_in_week_nights**: Número de noches entre semana (de lunes a viernes) que el\n",
        "cliente se alojó o reservó en el hotel.\n",
        "\n",
        "* **adults**: Número de adultos\n",
        "* **children**: Número de niños\n",
        "* **babies**: Número de bebes\n",
        "* **meal**: Tipo de comida reservada. Las categorías se presentan en paquetes de comidas de hospitalidad estándar: Undefined/SC - sin paquete de comidas; BB - Alojamiento y desayuno; HB - Media pensión (desayuno y otra comida - normalmente cena); FB - Pensión completa (desayuno, almuerzo y cena)\n",
        "\n",
        "* **country**:  País de origen.\n",
        "* **market_segment**: Designación del segmento de mercado. En las categorías, el término TA significa agencias de viaje y TO operadores turísticos.\n",
        "\n",
        "\n",
        "* **distribution_channel**:  Canal de distribución de reservas. En las categorías, el término\n",
        "TA significa agencias de viaje y TO operadores turísticos.\n",
        "\n",
        "* **is_repeated_guest**: : Valor que indica si el nombre de la reserva era de un huésped repetido (1) o no (0)\n",
        "* **previous_cancellations**: Número de reservas anteriores canceladas por el cliente antes de la reserva actual\n",
        "* **previous_bookings_not_canceled**: Número de reservas anteriores no canceladas por el cliente antes de la reserva actual\n",
        "* **reserved_room_type**: : Código del tipo de habitación reservada. El código se presenta en lugar de la designación por razones de anonimato.\n",
        "* **assigned_room_type**: Código del tipo de habitación asignado a la reserva\n",
        "* **booking_changes**: Número de cambios/enmiendas realizados en la reserva desde el\n",
        "momento en que se introdujo en el PMS\n",
        "* **deposit_type**: : Indicación de si el cliente hizo un depósito para garantizar la reserva.\n",
        "Esta variable puede asumir tres categorías: No Deposit: no se realizó ningún depósito; No Refund: se realizó un depósito por valor del coste total de la estancia; Refundable: se realizó un depósito por valor inferior al coste total de la estancia.\n",
        "\n",
        "* **agent**: ID de la agencia de viajes que realizó la reserva\n",
        "* **company**: : ID de la empresa/entidad que realizó la reserva o responsable del pago de la reserva. La identificación se presenta en lugar de la designación por razones de anonimato.\n",
        "\n",
        "* **days_in_waiting_list**: Número de días que la reserva estuvo en lista de espera antes\n",
        "de ser confirmada al cliente\n",
        "\n",
        "* **customer_type**: Tipo de reserva, asumiendo una de las cuatro categorías: Contract - cuando la reserva tiene asociada una adjudicación u otro tipo de contrato; Group -\n",
        "cuando la reserva está asociada a un grupo; Transient - cuando la reserva no forma parte de un grupo o contrato, y no está asociada a otra reserva transitoria;\n",
        "Transient-party - cuando la reserva es transitoria, pero está asociada al menos a otra reserva transitoria\n",
        "* **adr**: Tarifa media diaria definida dividiendo la suma de todas las transacciones de\n",
        "alojamiento por el número total de noches de estancia.\n",
        "\n",
        "* **required_car_parking_spaces**: Número de plazas de aparcamiento que necesita el cliente\n",
        "* **total_of_special_requests**: Número de peticiones especiales realizadas por el cliente (por ejemplo, cama doble o piso alto)\n",
        "\n",
        "* **reservation_status**: Último estado de la reserva, asumiendo una de las tres categorías: Canceled: el cliente ha cancelado la reserva; Check-Out: el cliente se ha\n",
        "registrado pero ya se ha marchado; No-Show: el cliente no se ha registrado y ha informado al hotel del motivo\n",
        "* **reservation_status_date**: Fecha en la que se estableció el último estado. Esta variable se puede utilizar junto con ReservationStatus para saber cuándo se cancela la reserva o cuándo abandona el cliente el hotel.\n",
        "\n"
      ]
    },
    {
      "cell_type": "markdown",
      "metadata": {
        "id": "QUt0tRo9SwJb"
      },
      "source": [
        "# Punto 1\n",
        "\n",
        "---\n",
        "\n",
        "Importa las librerías necesarias:\n",
        "* preprocesamiento de datos, visualización\n",
        "* creación de un modelo de red neuronal feedforward con Keras y Tensorflow,\n",
        "* regularización y búsqueda de grilla."
      ]
    },
    {
      "cell_type": "code",
      "execution_count": 71,
      "metadata": {
        "colab": {
          "base_uri": "https://localhost:8080/"
        },
        "collapsed": true,
        "id": "DXKc0ZFqTizA",
        "outputId": "b218b5e8-2b47-42d1-d95c-ffe679856569"
      },
      "outputs": [],
      "source": [
        "#!pip install tensorflow\n",
        "#!pip install scikeras"
      ]
    },
    {
      "cell_type": "code",
      "execution_count": 72,
      "metadata": {
        "id": "UJpy1wesD9hv"
      },
      "outputs": [],
      "source": [
        "import tensorflow as tf\n",
        "from tensorflow import keras\n",
        "import pandas as pd\n",
        "import numpy as np\n",
        "import seaborn as sns\n",
        "import matplotlib.pyplot as plt\n",
        "from sklearn.datasets import fetch_openml\n",
        "from sklearn.metrics import accuracy_score, confusion_matrix, classification_report,roc_auc_score, roc_curve, auc\n",
        "from sklearn.model_selection import train_test_split\n",
        "from sklearn.preprocessing import LabelEncoder, OneHotEncoder, MinMaxScaler\n",
        "from sklearn.model_selection import GridSearchCV"
      ]
    },
    {
      "cell_type": "code",
      "execution_count": 73,
      "metadata": {
        "id": "L9o2I_5aT6Or"
      },
      "outputs": [],
      "source": [
        "from keras.optimizers import SGD, Adagrad, Adadelta, Adam\n",
        "from keras.models import Sequential\n",
        "from keras.initializers import HeNormal, GlorotNormal, glorot_uniform\n",
        "from keras.regularizers import l1, l2, l1_l2\n",
        "from keras.constraints import MaxNorm\n",
        "from keras.layers import Dropout,Dense\n",
        "\n",
        "from tensorflow.keras.models import Sequential\n",
        "from tensorflow.keras.layers import Dense, Dropout\n",
        "from tensorflow.keras.optimizers import SGD, Adam\n",
        "from scikeras.wrappers import KerasClassifier"
      ]
    },
    {
      "cell_type": "markdown",
      "metadata": {
        "id": "IHLGjC3JUCr6"
      },
      "source": [
        "Cargamos los datos"
      ]
    },
    {
      "cell_type": "code",
      "execution_count": 74,
      "metadata": {
        "colab": {
          "base_uri": "https://localhost:8080/",
          "height": 342
        },
        "id": "bYaFDFM0UBnF",
        "outputId": "4b49e8d0-6430-4de1-fdfb-93317d61cbf3"
      },
      "outputs": [
        {
          "data": {
            "text/html": [
              "<div>\n",
              "<style scoped>\n",
              "    .dataframe tbody tr th:only-of-type {\n",
              "        vertical-align: middle;\n",
              "    }\n",
              "\n",
              "    .dataframe tbody tr th {\n",
              "        vertical-align: top;\n",
              "    }\n",
              "\n",
              "    .dataframe thead th {\n",
              "        text-align: right;\n",
              "    }\n",
              "</style>\n",
              "<table border=\"1\" class=\"dataframe\">\n",
              "  <thead>\n",
              "    <tr style=\"text-align: right;\">\n",
              "      <th></th>\n",
              "      <th>index</th>\n",
              "      <th>hotel</th>\n",
              "      <th>is_canceled</th>\n",
              "      <th>lead_time</th>\n",
              "      <th>arrival_date_year</th>\n",
              "      <th>arrival_date_month</th>\n",
              "      <th>arrival_date_week_number</th>\n",
              "      <th>arrival_date_day_of_month</th>\n",
              "      <th>stays_in_weekend_nights</th>\n",
              "      <th>stays_in_week_nights</th>\n",
              "      <th>...</th>\n",
              "      <th>deposit_type</th>\n",
              "      <th>agent</th>\n",
              "      <th>company</th>\n",
              "      <th>days_in_waiting_list</th>\n",
              "      <th>customer_type</th>\n",
              "      <th>adr</th>\n",
              "      <th>required_car_parking_spaces</th>\n",
              "      <th>total_of_special_requests</th>\n",
              "      <th>reservation_status</th>\n",
              "      <th>reservation_status_date</th>\n",
              "    </tr>\n",
              "  </thead>\n",
              "  <tbody>\n",
              "    <tr>\n",
              "      <th>0</th>\n",
              "      <td>0</td>\n",
              "      <td>Resort Hotel</td>\n",
              "      <td>0</td>\n",
              "      <td>342</td>\n",
              "      <td>2015</td>\n",
              "      <td>July</td>\n",
              "      <td>27</td>\n",
              "      <td>1</td>\n",
              "      <td>0</td>\n",
              "      <td>0</td>\n",
              "      <td>...</td>\n",
              "      <td>No Deposit</td>\n",
              "      <td>NaN</td>\n",
              "      <td>NaN</td>\n",
              "      <td>0</td>\n",
              "      <td>Transient</td>\n",
              "      <td>0.0</td>\n",
              "      <td>0</td>\n",
              "      <td>0</td>\n",
              "      <td>Check-Out</td>\n",
              "      <td>01-07-15</td>\n",
              "    </tr>\n",
              "    <tr>\n",
              "      <th>1</th>\n",
              "      <td>1</td>\n",
              "      <td>Resort Hotel</td>\n",
              "      <td>0</td>\n",
              "      <td>737</td>\n",
              "      <td>2015</td>\n",
              "      <td>July</td>\n",
              "      <td>27</td>\n",
              "      <td>1</td>\n",
              "      <td>0</td>\n",
              "      <td>0</td>\n",
              "      <td>...</td>\n",
              "      <td>No Deposit</td>\n",
              "      <td>NaN</td>\n",
              "      <td>NaN</td>\n",
              "      <td>0</td>\n",
              "      <td>Transient</td>\n",
              "      <td>0.0</td>\n",
              "      <td>0</td>\n",
              "      <td>0</td>\n",
              "      <td>Check-Out</td>\n",
              "      <td>01-07-15</td>\n",
              "    </tr>\n",
              "    <tr>\n",
              "      <th>2</th>\n",
              "      <td>2</td>\n",
              "      <td>Resort Hotel</td>\n",
              "      <td>0</td>\n",
              "      <td>7</td>\n",
              "      <td>2015</td>\n",
              "      <td>July</td>\n",
              "      <td>27</td>\n",
              "      <td>1</td>\n",
              "      <td>0</td>\n",
              "      <td>1</td>\n",
              "      <td>...</td>\n",
              "      <td>No Deposit</td>\n",
              "      <td>NaN</td>\n",
              "      <td>NaN</td>\n",
              "      <td>0</td>\n",
              "      <td>Transient</td>\n",
              "      <td>75.0</td>\n",
              "      <td>0</td>\n",
              "      <td>0</td>\n",
              "      <td>Check-Out</td>\n",
              "      <td>02-07-15</td>\n",
              "    </tr>\n",
              "    <tr>\n",
              "      <th>3</th>\n",
              "      <td>3</td>\n",
              "      <td>Resort Hotel</td>\n",
              "      <td>0</td>\n",
              "      <td>13</td>\n",
              "      <td>2015</td>\n",
              "      <td>July</td>\n",
              "      <td>27</td>\n",
              "      <td>1</td>\n",
              "      <td>0</td>\n",
              "      <td>1</td>\n",
              "      <td>...</td>\n",
              "      <td>No Deposit</td>\n",
              "      <td>304.0</td>\n",
              "      <td>NaN</td>\n",
              "      <td>0</td>\n",
              "      <td>Transient</td>\n",
              "      <td>75.0</td>\n",
              "      <td>0</td>\n",
              "      <td>0</td>\n",
              "      <td>Check-Out</td>\n",
              "      <td>02-07-15</td>\n",
              "    </tr>\n",
              "    <tr>\n",
              "      <th>4</th>\n",
              "      <td>4</td>\n",
              "      <td>Resort Hotel</td>\n",
              "      <td>0</td>\n",
              "      <td>14</td>\n",
              "      <td>2015</td>\n",
              "      <td>July</td>\n",
              "      <td>27</td>\n",
              "      <td>1</td>\n",
              "      <td>0</td>\n",
              "      <td>2</td>\n",
              "      <td>...</td>\n",
              "      <td>No Deposit</td>\n",
              "      <td>240.0</td>\n",
              "      <td>NaN</td>\n",
              "      <td>0</td>\n",
              "      <td>Transient</td>\n",
              "      <td>98.0</td>\n",
              "      <td>0</td>\n",
              "      <td>1</td>\n",
              "      <td>Check-Out</td>\n",
              "      <td>03-07-15</td>\n",
              "    </tr>\n",
              "  </tbody>\n",
              "</table>\n",
              "<p>5 rows × 33 columns</p>\n",
              "</div>"
            ],
            "text/plain": [
              "   index         hotel  is_canceled  lead_time  arrival_date_year  \\\n",
              "0      0  Resort Hotel            0        342               2015   \n",
              "1      1  Resort Hotel            0        737               2015   \n",
              "2      2  Resort Hotel            0          7               2015   \n",
              "3      3  Resort Hotel            0         13               2015   \n",
              "4      4  Resort Hotel            0         14               2015   \n",
              "\n",
              "  arrival_date_month  arrival_date_week_number  arrival_date_day_of_month  \\\n",
              "0               July                        27                          1   \n",
              "1               July                        27                          1   \n",
              "2               July                        27                          1   \n",
              "3               July                        27                          1   \n",
              "4               July                        27                          1   \n",
              "\n",
              "   stays_in_weekend_nights  stays_in_week_nights  ...  deposit_type  agent  \\\n",
              "0                        0                     0  ...    No Deposit    NaN   \n",
              "1                        0                     0  ...    No Deposit    NaN   \n",
              "2                        0                     1  ...    No Deposit    NaN   \n",
              "3                        0                     1  ...    No Deposit  304.0   \n",
              "4                        0                     2  ...    No Deposit  240.0   \n",
              "\n",
              "   company days_in_waiting_list customer_type   adr  \\\n",
              "0      NaN                    0     Transient   0.0   \n",
              "1      NaN                    0     Transient   0.0   \n",
              "2      NaN                    0     Transient  75.0   \n",
              "3      NaN                    0     Transient  75.0   \n",
              "4      NaN                    0     Transient  98.0   \n",
              "\n",
              "  required_car_parking_spaces  total_of_special_requests  reservation_status  \\\n",
              "0                           0                          0           Check-Out   \n",
              "1                           0                          0           Check-Out   \n",
              "2                           0                          0           Check-Out   \n",
              "3                           0                          0           Check-Out   \n",
              "4                           0                          1           Check-Out   \n",
              "\n",
              "   reservation_status_date  \n",
              "0                 01-07-15  \n",
              "1                 01-07-15  \n",
              "2                 02-07-15  \n",
              "3                 02-07-15  \n",
              "4                 03-07-15  \n",
              "\n",
              "[5 rows x 33 columns]"
            ]
          },
          "execution_count": 74,
          "metadata": {},
          "output_type": "execute_result"
        }
      ],
      "source": [
        "data = pd.read_csv('hotel_bookings.csv')\n",
        "data.head()"
      ]
    },
    {
      "cell_type": "markdown",
      "metadata": {
        "id": "WJIc5s99TzYu"
      },
      "source": [
        "Descartar las columnas `index`, `arrival_date_year`, `agent`, `country`, `company`, `reservation_status` y `reservation_status_date`."
      ]
    },
    {
      "cell_type": "code",
      "execution_count": 75,
      "metadata": {
        "colab": {
          "base_uri": "https://localhost:8080/"
        },
        "id": "c81eVb6rT5B5",
        "outputId": "a6b12ff6-6f16-4e95-8da1-ee8ac0899523"
      },
      "outputs": [
        {
          "name": "stdout",
          "output_type": "stream",
          "text": [
            "Todas las columnas\n",
            "Index(['index', 'hotel', 'is_canceled', 'lead_time', 'arrival_date_year',\n",
            "       'arrival_date_month', 'arrival_date_week_number',\n",
            "       'arrival_date_day_of_month', 'stays_in_weekend_nights',\n",
            "       'stays_in_week_nights', 'adults', 'children', 'babies', 'meal',\n",
            "       'country', 'market_segment', 'distribution_channel',\n",
            "       'is_repeated_guest', 'previous_cancellations',\n",
            "       'previous_bookings_not_canceled', 'reserved_room_type',\n",
            "       'assigned_room_type', 'booking_changes', 'deposit_type', 'agent',\n",
            "       'company', 'days_in_waiting_list', 'customer_type', 'adr',\n",
            "       'required_car_parking_spaces', 'total_of_special_requests',\n",
            "       'reservation_status', 'reservation_status_date'],\n",
            "      dtype='object')\n",
            "Dataframe Actualizado\n",
            "Index(['hotel', 'is_canceled', 'lead_time', 'arrival_date_month',\n",
            "       'arrival_date_week_number', 'arrival_date_day_of_month',\n",
            "       'stays_in_weekend_nights', 'stays_in_week_nights', 'adults', 'children',\n",
            "       'babies', 'meal', 'market_segment', 'distribution_channel',\n",
            "       'is_repeated_guest', 'previous_cancellations',\n",
            "       'previous_bookings_not_canceled', 'reserved_room_type',\n",
            "       'assigned_room_type', 'booking_changes', 'deposit_type',\n",
            "       'days_in_waiting_list', 'customer_type', 'adr',\n",
            "       'required_car_parking_spaces', 'total_of_special_requests'],\n",
            "      dtype='object')\n"
          ]
        }
      ],
      "source": [
        "print('Todas las columnas')\n",
        "print(data.columns)\n",
        "columnas_drop = ['index', 'arrival_date_year', 'agent', 'country', 'company', 'reservation_status', 'reservation_status_date']\n",
        "data = data.drop( columns=columnas_drop, axis=0)\n",
        "\n",
        "print('Dataframe Actualizado')\n",
        "print(data.columns)\n"
      ]
    },
    {
      "cell_type": "markdown",
      "metadata": {
        "id": "-ac_Ouu3VZyf"
      },
      "source": [
        "Análisis de calidad.\n",
        "* If ausentes <4% then eliminar registros\n",
        "* If ausentes >4% then imputar OR drop column\n"
      ]
    },
    {
      "cell_type": "code",
      "execution_count": 76,
      "metadata": {
        "id": "IRu7zwmsVdgy"
      },
      "outputs": [],
      "source": [
        "def data_quality_analysis(df):\n",
        "    # Crear un nuevo dataframe para almacenar los resultados\n",
        "    result_df = pd.DataFrame(columns=['Column', 'Type', 'Unique', 'Missing'])\n",
        "\n",
        "    columns = df.columns\n",
        "    data_types = df.dtypes.to_list()\n",
        "    unique_values = [df[column].nunique() for column in columns]\n",
        "    missing_values = [df[column].isnull().sum() for column in columns]\n",
        "\n",
        "    result_df['Column'] = columns\n",
        "    result_df['Type'] = data_types\n",
        "    result_df['Unique'] = unique_values\n",
        "    result_df['Missing'] = missing_values\n",
        "\n",
        "    return result_df"
      ]
    },
    {
      "cell_type": "code",
      "execution_count": 77,
      "metadata": {
        "colab": {
          "base_uri": "https://localhost:8080/",
          "height": 882
        },
        "id": "XKfgDGKXV16C",
        "outputId": "bee1772b-cdb6-419c-f69f-d36047ecba70"
      },
      "outputs": [
        {
          "name": "stdout",
          "output_type": "stream",
          "text": [
            "Registros:  119390\n",
            "Columnas:  26\n",
            "Análisis de calidad\n"
          ]
        },
        {
          "data": {
            "text/html": [
              "<div>\n",
              "<style scoped>\n",
              "    .dataframe tbody tr th:only-of-type {\n",
              "        vertical-align: middle;\n",
              "    }\n",
              "\n",
              "    .dataframe tbody tr th {\n",
              "        vertical-align: top;\n",
              "    }\n",
              "\n",
              "    .dataframe thead th {\n",
              "        text-align: right;\n",
              "    }\n",
              "</style>\n",
              "<table border=\"1\" class=\"dataframe\">\n",
              "  <thead>\n",
              "    <tr style=\"text-align: right;\">\n",
              "      <th></th>\n",
              "      <th>Column</th>\n",
              "      <th>Type</th>\n",
              "      <th>Unique</th>\n",
              "      <th>Missing</th>\n",
              "    </tr>\n",
              "  </thead>\n",
              "  <tbody>\n",
              "    <tr>\n",
              "      <th>0</th>\n",
              "      <td>hotel</td>\n",
              "      <td>object</td>\n",
              "      <td>2</td>\n",
              "      <td>0</td>\n",
              "    </tr>\n",
              "    <tr>\n",
              "      <th>1</th>\n",
              "      <td>is_canceled</td>\n",
              "      <td>int64</td>\n",
              "      <td>2</td>\n",
              "      <td>0</td>\n",
              "    </tr>\n",
              "    <tr>\n",
              "      <th>2</th>\n",
              "      <td>lead_time</td>\n",
              "      <td>int64</td>\n",
              "      <td>479</td>\n",
              "      <td>0</td>\n",
              "    </tr>\n",
              "    <tr>\n",
              "      <th>3</th>\n",
              "      <td>arrival_date_month</td>\n",
              "      <td>object</td>\n",
              "      <td>12</td>\n",
              "      <td>0</td>\n",
              "    </tr>\n",
              "    <tr>\n",
              "      <th>4</th>\n",
              "      <td>arrival_date_week_number</td>\n",
              "      <td>int64</td>\n",
              "      <td>53</td>\n",
              "      <td>0</td>\n",
              "    </tr>\n",
              "    <tr>\n",
              "      <th>5</th>\n",
              "      <td>arrival_date_day_of_month</td>\n",
              "      <td>int64</td>\n",
              "      <td>31</td>\n",
              "      <td>0</td>\n",
              "    </tr>\n",
              "    <tr>\n",
              "      <th>6</th>\n",
              "      <td>stays_in_weekend_nights</td>\n",
              "      <td>int64</td>\n",
              "      <td>17</td>\n",
              "      <td>0</td>\n",
              "    </tr>\n",
              "    <tr>\n",
              "      <th>7</th>\n",
              "      <td>stays_in_week_nights</td>\n",
              "      <td>int64</td>\n",
              "      <td>35</td>\n",
              "      <td>0</td>\n",
              "    </tr>\n",
              "    <tr>\n",
              "      <th>8</th>\n",
              "      <td>adults</td>\n",
              "      <td>int64</td>\n",
              "      <td>14</td>\n",
              "      <td>0</td>\n",
              "    </tr>\n",
              "    <tr>\n",
              "      <th>9</th>\n",
              "      <td>children</td>\n",
              "      <td>float64</td>\n",
              "      <td>5</td>\n",
              "      <td>4</td>\n",
              "    </tr>\n",
              "    <tr>\n",
              "      <th>10</th>\n",
              "      <td>babies</td>\n",
              "      <td>int64</td>\n",
              "      <td>5</td>\n",
              "      <td>0</td>\n",
              "    </tr>\n",
              "    <tr>\n",
              "      <th>11</th>\n",
              "      <td>meal</td>\n",
              "      <td>object</td>\n",
              "      <td>5</td>\n",
              "      <td>0</td>\n",
              "    </tr>\n",
              "    <tr>\n",
              "      <th>12</th>\n",
              "      <td>market_segment</td>\n",
              "      <td>object</td>\n",
              "      <td>8</td>\n",
              "      <td>0</td>\n",
              "    </tr>\n",
              "    <tr>\n",
              "      <th>13</th>\n",
              "      <td>distribution_channel</td>\n",
              "      <td>object</td>\n",
              "      <td>5</td>\n",
              "      <td>0</td>\n",
              "    </tr>\n",
              "    <tr>\n",
              "      <th>14</th>\n",
              "      <td>is_repeated_guest</td>\n",
              "      <td>int64</td>\n",
              "      <td>2</td>\n",
              "      <td>0</td>\n",
              "    </tr>\n",
              "    <tr>\n",
              "      <th>15</th>\n",
              "      <td>previous_cancellations</td>\n",
              "      <td>int64</td>\n",
              "      <td>15</td>\n",
              "      <td>0</td>\n",
              "    </tr>\n",
              "    <tr>\n",
              "      <th>16</th>\n",
              "      <td>previous_bookings_not_canceled</td>\n",
              "      <td>int64</td>\n",
              "      <td>73</td>\n",
              "      <td>0</td>\n",
              "    </tr>\n",
              "    <tr>\n",
              "      <th>17</th>\n",
              "      <td>reserved_room_type</td>\n",
              "      <td>object</td>\n",
              "      <td>10</td>\n",
              "      <td>0</td>\n",
              "    </tr>\n",
              "    <tr>\n",
              "      <th>18</th>\n",
              "      <td>assigned_room_type</td>\n",
              "      <td>object</td>\n",
              "      <td>12</td>\n",
              "      <td>0</td>\n",
              "    </tr>\n",
              "    <tr>\n",
              "      <th>19</th>\n",
              "      <td>booking_changes</td>\n",
              "      <td>int64</td>\n",
              "      <td>21</td>\n",
              "      <td>0</td>\n",
              "    </tr>\n",
              "    <tr>\n",
              "      <th>20</th>\n",
              "      <td>deposit_type</td>\n",
              "      <td>object</td>\n",
              "      <td>3</td>\n",
              "      <td>0</td>\n",
              "    </tr>\n",
              "    <tr>\n",
              "      <th>21</th>\n",
              "      <td>days_in_waiting_list</td>\n",
              "      <td>int64</td>\n",
              "      <td>128</td>\n",
              "      <td>0</td>\n",
              "    </tr>\n",
              "    <tr>\n",
              "      <th>22</th>\n",
              "      <td>customer_type</td>\n",
              "      <td>object</td>\n",
              "      <td>4</td>\n",
              "      <td>0</td>\n",
              "    </tr>\n",
              "    <tr>\n",
              "      <th>23</th>\n",
              "      <td>adr</td>\n",
              "      <td>float64</td>\n",
              "      <td>8879</td>\n",
              "      <td>0</td>\n",
              "    </tr>\n",
              "    <tr>\n",
              "      <th>24</th>\n",
              "      <td>required_car_parking_spaces</td>\n",
              "      <td>int64</td>\n",
              "      <td>5</td>\n",
              "      <td>0</td>\n",
              "    </tr>\n",
              "    <tr>\n",
              "      <th>25</th>\n",
              "      <td>total_of_special_requests</td>\n",
              "      <td>int64</td>\n",
              "      <td>6</td>\n",
              "      <td>0</td>\n",
              "    </tr>\n",
              "  </tbody>\n",
              "</table>\n",
              "</div>"
            ],
            "text/plain": [
              "                            Column     Type  Unique  Missing\n",
              "0                            hotel   object       2        0\n",
              "1                      is_canceled    int64       2        0\n",
              "2                        lead_time    int64     479        0\n",
              "3               arrival_date_month   object      12        0\n",
              "4         arrival_date_week_number    int64      53        0\n",
              "5        arrival_date_day_of_month    int64      31        0\n",
              "6          stays_in_weekend_nights    int64      17        0\n",
              "7             stays_in_week_nights    int64      35        0\n",
              "8                           adults    int64      14        0\n",
              "9                         children  float64       5        4\n",
              "10                          babies    int64       5        0\n",
              "11                            meal   object       5        0\n",
              "12                  market_segment   object       8        0\n",
              "13            distribution_channel   object       5        0\n",
              "14               is_repeated_guest    int64       2        0\n",
              "15          previous_cancellations    int64      15        0\n",
              "16  previous_bookings_not_canceled    int64      73        0\n",
              "17              reserved_room_type   object      10        0\n",
              "18              assigned_room_type   object      12        0\n",
              "19                 booking_changes    int64      21        0\n",
              "20                    deposit_type   object       3        0\n",
              "21            days_in_waiting_list    int64     128        0\n",
              "22                   customer_type   object       4        0\n",
              "23                             adr  float64    8879        0\n",
              "24     required_car_parking_spaces    int64       5        0\n",
              "25       total_of_special_requests    int64       6        0"
            ]
          },
          "execution_count": 77,
          "metadata": {},
          "output_type": "execute_result"
        }
      ],
      "source": [
        "print('Registros: ',data.shape[0])\n",
        "print('Columnas: ', data.shape[1])\n",
        "print('Análisis de calidad')\n",
        "data_quality_analysis(data)"
      ]
    },
    {
      "cell_type": "code",
      "execution_count": 78,
      "metadata": {
        "id": "ItyHXS7cmpgz"
      },
      "outputs": [],
      "source": [
        "data = data.dropna(subset=['children'])"
      ]
    },
    {
      "cell_type": "markdown",
      "metadata": {
        "id": "ZNDspkYqdAWw"
      },
      "source": [
        "## Punto 2\n",
        "\n",
        "---\n",
        "\n"
      ]
    },
    {
      "cell_type": "markdown",
      "metadata": {
        "id": "BjSUaDRwAhx3"
      },
      "source": [
        "Revisar outlier para la variable `adr`.\n",
        "Indicar la cantidad de outliers por arriba y por abajo. \n",
        "Eliminar sólo los tres valores más extremos en ambos\n",
        "casos, para los demás cambia sus valores por el valor promedio de la variable.\n"
      ]
    },
    {
      "cell_type": "code",
      "execution_count": 79,
      "metadata": {
        "colab": {
          "base_uri": "https://localhost:8080/",
          "height": 564
        },
        "id": "RtfPzfcDAiUk",
        "outputId": "49e22dc3-c818-4859-bdd0-c10d702fabd3"
      },
      "outputs": [
        {
          "data": {
            "image/png": "[encoded data removed]",
            "text/plain": [
              "<Figure size 1200x200 with 1 Axes>"
            ]
          },
          "metadata": {},
          "output_type": "display_data"
        },
        {
          "name": "stdout",
          "output_type": "stream",
          "text": [
            "Valores considerados outliers: < -16 o > 211\n",
            "Outliers inferiores <-16: 0\n",
            "Outliers inferiores >211: 3793\n",
            "Total outliers: 3793\n"
          ]
        },
        {
          "data": {
            "image/png": "[encoded data removed]",
            "text/plain": [
              "<Figure size 1200x200 with 1 Axes>"
            ]
          },
          "metadata": {},
          "output_type": "display_data"
        }
      ],
      "source": [
        "columna = 'adr'  # Cambia esto por el nombre de la columna que quieras analizar\n",
        "\n",
        "# 1. Visualizar outliers con boxplot\n",
        "plt.figure(figsize=(12, 2))\n",
        "plt.boxplot(data[columna], vert=False)\n",
        "plt.title(f'Boxplot of {columna}')\n",
        "plt.xlabel(columna)\n",
        "plt.grid(True)\n",
        "plt.show()\n",
        "\n",
        "Q1 = data[columna].quantile(0.25)\n",
        "Q3 = data[columna].quantile(0.75)\n",
        "IQR = Q3 - Q1\n",
        "lower_bound = Q1 - 1.5 * IQR\n",
        "upper_bound = Q3 + 1.5 * IQR\n",
        "\n",
        "print(f\"Valores considerados outliers: < {lower_bound:.0f} o > {upper_bound:.0f}\")\n",
        "print(f\"Outliers inferiores <{lower_bound:.0f}: {len(data[(data[columna] < lower_bound)])}\")\n",
        "print(f\"Outliers inferiores >{upper_bound:.0f}: {len(data[(data[columna] > upper_bound)])}\")\n",
        "print(f\"Total outliers: {len(data[(data[columna] < lower_bound) | (data[columna] > upper_bound)])}\")\n",
        "\n",
        "# 3. Eliminar outliers\n",
        "data = data[(data[columna] >= lower_bound) & (data[columna] <= upper_bound)]\n",
        "\n",
        "plt.figure(figsize=(12, 2))\n",
        "plt.boxplot(data[columna], vert=False)\n",
        "plt.title(f'Boxplot of {columna}')\n",
        "plt.xlabel(columna)\n",
        "plt.grid(True)\n",
        "plt.show()\n"
      ]
    },
    {
      "cell_type": "markdown",
      "metadata": {
        "id": "dmuYZdQjqf1d"
      },
      "source": [
        "Construye un histograma para la variable adr con reservas canceladas y no canceladas, y comenta el resultado"
      ]
    },
    {
      "cell_type": "code",
      "execution_count": 80,
      "metadata": {
        "colab": {
          "base_uri": "https://localhost:8080/",
          "height": 552
        },
        "id": "obHTcj0z2aKl",
        "outputId": "bd86924b-9734-455b-c8d2-c0a90b74d63c"
      },
      "outputs": [
        {
          "data": {
            "image/png": "[encoded data removed]",
            "text/plain": [
              "<Figure size 1200x600 with 1 Axes>"
            ]
          },
          "metadata": {},
          "output_type": "display_data"
        }
      ],
      "source": [
        "plt.rcParams.update({'font.size': 8})\n",
        "plt.figure(figsize=(12, 6))\n",
        "sns.histplot(\n",
        "    data=data,\n",
        "    x='adr',\n",
        "    hue='is_canceled',\n",
        "    kde=True,\n",
        "    stat=\"density\",\n",
        "    common_norm=False,\n",
        "    element=\"step\",\n",
        "    palette=\"tab10\",\n",
        ")\n",
        "\n",
        "plt.title('Distribution of adr by Cancellation Status')\n",
        "plt.xlabel('adr')\n",
        "plt.ylabel('Densidad')\n",
        "plt.grid(True)\n",
        "plt.show()\n"
      ]
    },
    {
      "cell_type": "markdown",
      "metadata": {
        "id": "na1biFrt48EP"
      },
      "source": [
        "Se puede evidenciar que el atributo adr no es determinante para clasificar si un registro se encuentra cancelado o no."
      ]
    },
    {
      "cell_type": "markdown",
      "metadata": {
        "id": "laq0vCUqE09N"
      },
      "source": [
        "Transforma las variables categóricas en variables dummies."
      ]
    },
    {
      "cell_type": "code",
      "execution_count": 81,
      "metadata": {
        "colab": {
          "base_uri": "https://localhost:8080/",
          "height": 1000
        },
        "id": "Q9MbtcrdsNsV",
        "outputId": "9d950cfa-64ae-4e3b-92e5-308be5ff323f"
      },
      "outputs": [
        {
          "data": {
            "text/html": [
              "<div>\n",
              "<style scoped>\n",
              "    .dataframe tbody tr th:only-of-type {\n",
              "        vertical-align: middle;\n",
              "    }\n",
              "\n",
              "    .dataframe tbody tr th {\n",
              "        vertical-align: top;\n",
              "    }\n",
              "\n",
              "    .dataframe thead th {\n",
              "        text-align: right;\n",
              "    }\n",
              "</style>\n",
              "<table border=\"1\" class=\"dataframe\">\n",
              "  <thead>\n",
              "    <tr style=\"text-align: right;\">\n",
              "      <th></th>\n",
              "      <th>Column</th>\n",
              "      <th>Type</th>\n",
              "      <th>Unique</th>\n",
              "      <th>Missing</th>\n",
              "    </tr>\n",
              "  </thead>\n",
              "  <tbody>\n",
              "    <tr>\n",
              "      <th>0</th>\n",
              "      <td>is_canceled</td>\n",
              "      <td>int64</td>\n",
              "      <td>2</td>\n",
              "      <td>0</td>\n",
              "    </tr>\n",
              "    <tr>\n",
              "      <th>1</th>\n",
              "      <td>lead_time</td>\n",
              "      <td>int64</td>\n",
              "      <td>479</td>\n",
              "      <td>0</td>\n",
              "    </tr>\n",
              "    <tr>\n",
              "      <th>2</th>\n",
              "      <td>arrival_date_week_number</td>\n",
              "      <td>int64</td>\n",
              "      <td>53</td>\n",
              "      <td>0</td>\n",
              "    </tr>\n",
              "    <tr>\n",
              "      <th>3</th>\n",
              "      <td>arrival_date_day_of_month</td>\n",
              "      <td>int64</td>\n",
              "      <td>31</td>\n",
              "      <td>0</td>\n",
              "    </tr>\n",
              "    <tr>\n",
              "      <th>4</th>\n",
              "      <td>stays_in_weekend_nights</td>\n",
              "      <td>int64</td>\n",
              "      <td>17</td>\n",
              "      <td>0</td>\n",
              "    </tr>\n",
              "    <tr>\n",
              "      <th>5</th>\n",
              "      <td>stays_in_week_nights</td>\n",
              "      <td>int64</td>\n",
              "      <td>35</td>\n",
              "      <td>0</td>\n",
              "    </tr>\n",
              "    <tr>\n",
              "      <th>6</th>\n",
              "      <td>adults</td>\n",
              "      <td>int64</td>\n",
              "      <td>14</td>\n",
              "      <td>0</td>\n",
              "    </tr>\n",
              "    <tr>\n",
              "      <th>7</th>\n",
              "      <td>children</td>\n",
              "      <td>float64</td>\n",
              "      <td>5</td>\n",
              "      <td>0</td>\n",
              "    </tr>\n",
              "    <tr>\n",
              "      <th>8</th>\n",
              "      <td>babies</td>\n",
              "      <td>int64</td>\n",
              "      <td>5</td>\n",
              "      <td>0</td>\n",
              "    </tr>\n",
              "    <tr>\n",
              "      <th>9</th>\n",
              "      <td>is_repeated_guest</td>\n",
              "      <td>int64</td>\n",
              "      <td>2</td>\n",
              "      <td>0</td>\n",
              "    </tr>\n",
              "    <tr>\n",
              "      <th>10</th>\n",
              "      <td>previous_cancellations</td>\n",
              "      <td>int64</td>\n",
              "      <td>15</td>\n",
              "      <td>0</td>\n",
              "    </tr>\n",
              "    <tr>\n",
              "      <th>11</th>\n",
              "      <td>previous_bookings_not_canceled</td>\n",
              "      <td>int64</td>\n",
              "      <td>73</td>\n",
              "      <td>0</td>\n",
              "    </tr>\n",
              "    <tr>\n",
              "      <th>12</th>\n",
              "      <td>booking_changes</td>\n",
              "      <td>int64</td>\n",
              "      <td>21</td>\n",
              "      <td>0</td>\n",
              "    </tr>\n",
              "    <tr>\n",
              "      <th>13</th>\n",
              "      <td>days_in_waiting_list</td>\n",
              "      <td>int64</td>\n",
              "      <td>127</td>\n",
              "      <td>0</td>\n",
              "    </tr>\n",
              "    <tr>\n",
              "      <th>14</th>\n",
              "      <td>adr</td>\n",
              "      <td>float64</td>\n",
              "      <td>7860</td>\n",
              "      <td>0</td>\n",
              "    </tr>\n",
              "    <tr>\n",
              "      <th>15</th>\n",
              "      <td>required_car_parking_spaces</td>\n",
              "      <td>int64</td>\n",
              "      <td>5</td>\n",
              "      <td>0</td>\n",
              "    </tr>\n",
              "    <tr>\n",
              "      <th>16</th>\n",
              "      <td>total_of_special_requests</td>\n",
              "      <td>int64</td>\n",
              "      <td>6</td>\n",
              "      <td>0</td>\n",
              "    </tr>\n",
              "    <tr>\n",
              "      <th>17</th>\n",
              "      <td>arrival_month_num</td>\n",
              "      <td>int64</td>\n",
              "      <td>12</td>\n",
              "      <td>0</td>\n",
              "    </tr>\n",
              "    <tr>\n",
              "      <th>18</th>\n",
              "      <td>meal_encoded</td>\n",
              "      <td>int64</td>\n",
              "      <td>4</td>\n",
              "      <td>0</td>\n",
              "    </tr>\n",
              "    <tr>\n",
              "      <th>19</th>\n",
              "      <td>hotel_encoded</td>\n",
              "      <td>int64</td>\n",
              "      <td>2</td>\n",
              "      <td>0</td>\n",
              "    </tr>\n",
              "    <tr>\n",
              "      <th>20</th>\n",
              "      <td>segment_Aviation</td>\n",
              "      <td>int64</td>\n",
              "      <td>2</td>\n",
              "      <td>0</td>\n",
              "    </tr>\n",
              "    <tr>\n",
              "      <th>21</th>\n",
              "      <td>segment_Complementary</td>\n",
              "      <td>int64</td>\n",
              "      <td>2</td>\n",
              "      <td>0</td>\n",
              "    </tr>\n",
              "    <tr>\n",
              "      <th>22</th>\n",
              "      <td>segment_Corporate</td>\n",
              "      <td>int64</td>\n",
              "      <td>2</td>\n",
              "      <td>0</td>\n",
              "    </tr>\n",
              "    <tr>\n",
              "      <th>23</th>\n",
              "      <td>segment_Direct</td>\n",
              "      <td>int64</td>\n",
              "      <td>2</td>\n",
              "      <td>0</td>\n",
              "    </tr>\n",
              "    <tr>\n",
              "      <th>24</th>\n",
              "      <td>segment_Groups</td>\n",
              "      <td>int64</td>\n",
              "      <td>2</td>\n",
              "      <td>0</td>\n",
              "    </tr>\n",
              "    <tr>\n",
              "      <th>25</th>\n",
              "      <td>segment_Offline TA/TO</td>\n",
              "      <td>int64</td>\n",
              "      <td>2</td>\n",
              "      <td>0</td>\n",
              "    </tr>\n",
              "    <tr>\n",
              "      <th>26</th>\n",
              "      <td>segment_Online TA</td>\n",
              "      <td>int64</td>\n",
              "      <td>2</td>\n",
              "      <td>0</td>\n",
              "    </tr>\n",
              "    <tr>\n",
              "      <th>27</th>\n",
              "      <td>channel_Corporate</td>\n",
              "      <td>int64</td>\n",
              "      <td>2</td>\n",
              "      <td>0</td>\n",
              "    </tr>\n",
              "    <tr>\n",
              "      <th>28</th>\n",
              "      <td>channel_Direct</td>\n",
              "      <td>int64</td>\n",
              "      <td>2</td>\n",
              "      <td>0</td>\n",
              "    </tr>\n",
              "    <tr>\n",
              "      <th>29</th>\n",
              "      <td>channel_GDS</td>\n",
              "      <td>int64</td>\n",
              "      <td>2</td>\n",
              "      <td>0</td>\n",
              "    </tr>\n",
              "    <tr>\n",
              "      <th>30</th>\n",
              "      <td>channel_TA/TO</td>\n",
              "      <td>int64</td>\n",
              "      <td>2</td>\n",
              "      <td>0</td>\n",
              "    </tr>\n",
              "    <tr>\n",
              "      <th>31</th>\n",
              "      <td>channel_Undefined</td>\n",
              "      <td>int64</td>\n",
              "      <td>2</td>\n",
              "      <td>0</td>\n",
              "    </tr>\n",
              "    <tr>\n",
              "      <th>32</th>\n",
              "      <td>room_A</td>\n",
              "      <td>int64</td>\n",
              "      <td>2</td>\n",
              "      <td>0</td>\n",
              "    </tr>\n",
              "    <tr>\n",
              "      <th>33</th>\n",
              "      <td>room_B</td>\n",
              "      <td>int64</td>\n",
              "      <td>2</td>\n",
              "      <td>0</td>\n",
              "    </tr>\n",
              "    <tr>\n",
              "      <th>34</th>\n",
              "      <td>room_C</td>\n",
              "      <td>int64</td>\n",
              "      <td>2</td>\n",
              "      <td>0</td>\n",
              "    </tr>\n",
              "    <tr>\n",
              "      <th>35</th>\n",
              "      <td>room_D</td>\n",
              "      <td>int64</td>\n",
              "      <td>2</td>\n",
              "      <td>0</td>\n",
              "    </tr>\n",
              "    <tr>\n",
              "      <th>36</th>\n",
              "      <td>room_E</td>\n",
              "      <td>int64</td>\n",
              "      <td>2</td>\n",
              "      <td>0</td>\n",
              "    </tr>\n",
              "    <tr>\n",
              "      <th>37</th>\n",
              "      <td>room_F</td>\n",
              "      <td>int64</td>\n",
              "      <td>2</td>\n",
              "      <td>0</td>\n",
              "    </tr>\n",
              "    <tr>\n",
              "      <th>38</th>\n",
              "      <td>room_G</td>\n",
              "      <td>int64</td>\n",
              "      <td>2</td>\n",
              "      <td>0</td>\n",
              "    </tr>\n",
              "    <tr>\n",
              "      <th>39</th>\n",
              "      <td>room_H</td>\n",
              "      <td>int64</td>\n",
              "      <td>2</td>\n",
              "      <td>0</td>\n",
              "    </tr>\n",
              "    <tr>\n",
              "      <th>40</th>\n",
              "      <td>room_L</td>\n",
              "      <td>int64</td>\n",
              "      <td>2</td>\n",
              "      <td>0</td>\n",
              "    </tr>\n",
              "    <tr>\n",
              "      <th>41</th>\n",
              "      <td>room_P</td>\n",
              "      <td>int64</td>\n",
              "      <td>2</td>\n",
              "      <td>0</td>\n",
              "    </tr>\n",
              "    <tr>\n",
              "      <th>42</th>\n",
              "      <td>deposit_No Deposit</td>\n",
              "      <td>int64</td>\n",
              "      <td>2</td>\n",
              "      <td>0</td>\n",
              "    </tr>\n",
              "    <tr>\n",
              "      <th>43</th>\n",
              "      <td>deposit_Non Refund</td>\n",
              "      <td>int64</td>\n",
              "      <td>2</td>\n",
              "      <td>0</td>\n",
              "    </tr>\n",
              "    <tr>\n",
              "      <th>44</th>\n",
              "      <td>deposit_Refundable</td>\n",
              "      <td>int64</td>\n",
              "      <td>2</td>\n",
              "      <td>0</td>\n",
              "    </tr>\n",
              "    <tr>\n",
              "      <th>45</th>\n",
              "      <td>customer_Contract</td>\n",
              "      <td>int64</td>\n",
              "      <td>2</td>\n",
              "      <td>0</td>\n",
              "    </tr>\n",
              "    <tr>\n",
              "      <th>46</th>\n",
              "      <td>customer_Group</td>\n",
              "      <td>int64</td>\n",
              "      <td>2</td>\n",
              "      <td>0</td>\n",
              "    </tr>\n",
              "    <tr>\n",
              "      <th>47</th>\n",
              "      <td>customer_Transient</td>\n",
              "      <td>int64</td>\n",
              "      <td>2</td>\n",
              "      <td>0</td>\n",
              "    </tr>\n",
              "    <tr>\n",
              "      <th>48</th>\n",
              "      <td>customer_Transient-Party</td>\n",
              "      <td>int64</td>\n",
              "      <td>2</td>\n",
              "      <td>0</td>\n",
              "    </tr>\n",
              "  </tbody>\n",
              "</table>\n",
              "</div>"
            ],
            "text/plain": [
              "                            Column     Type  Unique  Missing\n",
              "0                      is_canceled    int64       2        0\n",
              "1                        lead_time    int64     479        0\n",
              "2         arrival_date_week_number    int64      53        0\n",
              "3        arrival_date_day_of_month    int64      31        0\n",
              "4          stays_in_weekend_nights    int64      17        0\n",
              "5             stays_in_week_nights    int64      35        0\n",
              "6                           adults    int64      14        0\n",
              "7                         children  float64       5        0\n",
              "8                           babies    int64       5        0\n",
              "9                is_repeated_guest    int64       2        0\n",
              "10          previous_cancellations    int64      15        0\n",
              "11  previous_bookings_not_canceled    int64      73        0\n",
              "12                 booking_changes    int64      21        0\n",
              "13            days_in_waiting_list    int64     127        0\n",
              "14                             adr  float64    7860        0\n",
              "15     required_car_parking_spaces    int64       5        0\n",
              "16       total_of_special_requests    int64       6        0\n",
              "17               arrival_month_num    int64      12        0\n",
              "18                    meal_encoded    int64       4        0\n",
              "19                   hotel_encoded    int64       2        0\n",
              "20                segment_Aviation    int64       2        0\n",
              "21           segment_Complementary    int64       2        0\n",
              "22               segment_Corporate    int64       2        0\n",
              "23                  segment_Direct    int64       2        0\n",
              "24                  segment_Groups    int64       2        0\n",
              "25           segment_Offline TA/TO    int64       2        0\n",
              "26               segment_Online TA    int64       2        0\n",
              "27               channel_Corporate    int64       2        0\n",
              "28                  channel_Direct    int64       2        0\n",
              "29                     channel_GDS    int64       2        0\n",
              "30                   channel_TA/TO    int64       2        0\n",
              "31               channel_Undefined    int64       2        0\n",
              "32                          room_A    int64       2        0\n",
              "33                          room_B    int64       2        0\n",
              "34                          room_C    int64       2        0\n",
              "35                          room_D    int64       2        0\n",
              "36                          room_E    int64       2        0\n",
              "37                          room_F    int64       2        0\n",
              "38                          room_G    int64       2        0\n",
              "39                          room_H    int64       2        0\n",
              "40                          room_L    int64       2        0\n",
              "41                          room_P    int64       2        0\n",
              "42              deposit_No Deposit    int64       2        0\n",
              "43              deposit_Non Refund    int64       2        0\n",
              "44              deposit_Refundable    int64       2        0\n",
              "45               customer_Contract    int64       2        0\n",
              "46                  customer_Group    int64       2        0\n",
              "47              customer_Transient    int64       2        0\n",
              "48        customer_Transient-Party    int64       2        0"
            ]
          },
          "execution_count": 81,
          "metadata": {},
          "output_type": "execute_result"
        }
      ],
      "source": [
        "manual_map = {\n",
        "    'Undefined': 0,'SC': 0,\n",
        "    'BB': 1,\n",
        "    'HB': 2,\n",
        "    'BB': 3,\n",
        "    'FB': 4\n",
        "    }\n",
        "month_map = {\n",
        "    'January': 1, 'February': 2, 'March': 3,\n",
        "    'April': 4, 'May': 5, 'June': 6,\n",
        "    'July': 7, 'August': 8, 'September': 9,\n",
        "    'October': 10, 'November': 11, 'December': 12\n",
        "}\n",
        "\n",
        "\n",
        "data['arrival_month_num'] = data['arrival_date_month'].map(month_map)\n",
        "data['meal_encoded'] = data['meal'].map(manual_map)\n",
        "data['hotel_encoded'] = data['hotel'].map({'Resort Hotel': 0, 'City Hotel': 1})\n",
        "\n",
        "data = pd.get_dummies(data, columns=['market_segment'], prefix='segment')\n",
        "data = pd.get_dummies(data, columns=['distribution_channel'], prefix='channel')\n",
        "data = pd.get_dummies(data, columns=['reserved_room_type'], prefix='room')\n",
        "data = pd.get_dummies(data, columns=['deposit_type'], prefix='deposit')\n",
        "data = pd.get_dummies(data, columns=['customer_type'], prefix='customer')\n",
        "\n",
        "data = data.drop(columns=['arrival_date_month', 'meal', 'hotel','assigned_room_type'])\n",
        "data = data.astype({col: 'int' for col in data.select_dtypes(include='bool').columns})\n",
        "\n",
        "data_quality_analysis(data)"
      ]
    },
    {
      "cell_type": "markdown",
      "metadata": {},
      "source": [
        "Estandarizar las variables independientes con media igual a cero y desviación estándar 1\n"
      ]
    },
    {
      "cell_type": "code",
      "execution_count": 82,
      "metadata": {
        "colab": {
          "base_uri": "https://localhost:8080/"
        },
        "collapsed": true,
        "id": "iuKgU6XrWN3p",
        "outputId": "39cd1da0-9eec-4a72-e7ef-045df7e08d98"
      },
      "outputs": [
        {
          "name": "stdout",
          "output_type": "stream",
          "text": [
            "Columnas para Escalar [0,1]:\n",
            "['lead_time', 'arrival_date_week_number', 'arrival_date_day_of_month', 'stays_in_weekend_nights', 'stays_in_week_nights', 'adults', 'children', 'babies', 'previous_cancellations', 'previous_bookings_not_canceled', 'booking_changes', 'days_in_waiting_list', 'adr', 'required_car_parking_spaces', 'total_of_special_requests', 'arrival_month_num', 'meal_encoded']\n",
            "Columnas Binarias:\n",
            "['is_canceled', 'is_repeated_guest', 'hotel_encoded', 'segment_Aviation', 'segment_Complementary', 'segment_Corporate', 'segment_Direct', 'segment_Groups', 'segment_Offline TA/TO', 'segment_Online TA', 'channel_Corporate', 'channel_Direct', 'channel_GDS', 'channel_TA/TO', 'channel_Undefined', 'room_A', 'room_B', 'room_C', 'room_D', 'room_E', 'room_F', 'room_G', 'room_H', 'room_L', 'room_P', 'deposit_No Deposit', 'deposit_Non Refund', 'deposit_Refundable', 'customer_Contract', 'customer_Group', 'customer_Transient', 'customer_Transient-Party']\n",
            "✅Data escalada [0,1]\n"
          ]
        }
      ],
      "source": [
        "cols_binarias = [col for col in data.columns if data[col].dropna().isin([0,1]).all()]\n",
        "cols_numericas = [col for col in data.select_dtypes(include=['int64', 'float64']).columns if col not in cols_binarias]\n",
        "\n",
        "print('Columnas para Escalar [0,1]:')\n",
        "print(cols_numericas)\n",
        "\n",
        "print('Columnas Binarias:')\n",
        "print(cols_binarias)\n",
        "\n",
        "\n",
        "scaler = MinMaxScaler()\n",
        "data[cols_numericas] = scaler.fit_transform(data[cols_numericas])\n",
        "print('✅Data escalada [0,1]')"
      ]
    },
    {
      "cell_type": "markdown",
      "metadata": {},
      "source": [
        "Selecciona 5 variables que consideres relevantes (que no sean la variable\n",
        "adr) con respecto a cancelar una reserva."
      ]
    },
    {
      "cell_type": "code",
      "execution_count": 83,
      "metadata": {
        "colab": {
          "base_uri": "https://localhost:8080/",
          "height": 690
        },
        "id": "cROkVVEkqYCp",
        "outputId": "515e98b9-80b6-495f-f422-1a155fbbbf41"
      },
      "outputs": [
        {
          "data": {
            "text/plain": [
              "<Axes: >"
            ]
          },
          "execution_count": 83,
          "metadata": {},
          "output_type": "execute_result"
        },
        {
          "data": {
            "image/png": "[encoded data removed]",
            "text/plain": [
              "<Figure size 400x800 with 2 Axes>"
            ]
          },
          "metadata": {},
          "output_type": "display_data"
        }
      ],
      "source": [
        "plt.rcParams.update({'font.size': 8})\n",
        "plt.figure(figsize=(4, 8))\n",
        "\n",
        "sns.heatmap(data.loc[:, data.columns].corr().loc[:, ['is_canceled']]\n",
        "            .sort_values('is_canceled', ascending=False)\n",
        "            .iloc[1:], cmap='Reds', annot=True)"
      ]
    },
    {
      "cell_type": "markdown",
      "metadata": {
        "id": "ZDH08cSDHamI"
      },
      "source": [
        "realiza una división de los datos para entrenamiento y test, este último con un\n",
        "33% de registros"
      ]
    },
    {
      "cell_type": "code",
      "execution_count": 84,
      "metadata": {
        "id": "GTEcZZYmE4e1"
      },
      "outputs": [],
      "source": [
        "X_train, X_test, y_train, y_test = train_test_split(\n",
        "    data.drop('is_canceled', axis=1),\n",
        "    data['is_canceled'],\n",
        "    test_size=0.33,\n",
        "    random_state=42\n",
        "    )"
      ]
    },
    {
      "cell_type": "markdown",
      "metadata": {
        "id": "o5IRlJ7UIFgG"
      },
      "source": [
        "# Punto 3\n",
        "\n",
        "---\n",
        "\n",
        "Implementar red neuronal multicapa, considerando las siguientes características:\n",
        "* 3 capas ocultas\n",
        "* Funciones activacion (capa oculta): tanh,relu\n",
        "* Mínimo 20 neuronas en cada capa oculta\n",
        "* Optimizador SGD\n",
        "* 10 epochs\n",
        "* cada capa 1 nuerona de sesgo\n",
        "* inicializador de pesos y sesgos\n",
        "\n",
        "\n"
      ]
    },
    {
      "cell_type": "markdown",
      "metadata": {
        "id": "EcbsvBdaVNUJ"
      },
      "source": [
        "Implementar red neuronal multicapa, considerando las siguientes características:\n",
        "\n",
        "* mismas caráterísticas modelo anterior\n",
        "* Funciones activacion (capa oculta): tanh\n"
      ]
    },
    {
      "cell_type": "code",
      "execution_count": 85,
      "metadata": {
        "id": "e0r0bIfxWF1q"
      },
      "outputs": [],
      "source": [
        "# Configuración común\n",
        "input_dim = X_train.shape[1]\n",
        "epochs = 10\n",
        "batch_size = 32\n",
        "init_weights = 'glorot_uniform'  # o puedes usar 'he_uniform'\n",
        "\n",
        "model1 = Sequential()\n",
        "model1.add(keras.Input(shape=(X_train.shape[1], )))\n",
        "model1.add(\n",
        "        Dense(\n",
        "            units=32,\n",
        "            use_bias=True,\n",
        "            activation='tanh',\n",
        "            kernel_initializer=HeNormal(seed=24),\n",
        "            bias_initializer='zeros'\n",
        "        ))\n",
        "model1.add(\n",
        "        Dense(\n",
        "            units=32,\n",
        "            use_bias=True,\n",
        "            activation='relu',\n",
        "            kernel_initializer=HeNormal(seed=24),\n",
        "            bias_initializer='zeros'\n",
        "        ))\n",
        "model1.add(\n",
        "        Dense(\n",
        "            units=32,\n",
        "            use_bias=True,\n",
        "            activation='tanh',\n",
        "            kernel_initializer=HeNormal(seed=24),\n",
        "            bias_initializer='zeros'\n",
        "        ))\n",
        "model1.add(\n",
        "        Dense(\n",
        "            units=1,\n",
        "            use_bias=True,\n",
        "            activation='sigmoid',\n",
        "            kernel_initializer=HeNormal(seed=24),\n",
        "            bias_initializer='zeros'\n",
        "        ))\n",
        "\n",
        "model1.compile(optimizer=SGD(learning_rate=0.03), loss='binary_crossentropy', metrics=['accuracy'])\n",
        "\n",
        "history1 = model1.fit(X_train, y_train, validation_split=.33,epochs=epochs, batch_size=batch_size, verbose=0)\n"
      ]
    },
    {
      "cell_type": "code",
      "execution_count": 86,
      "metadata": {
        "id": "UW2eBxPGVxIx"
      },
      "outputs": [],
      "source": [
        "model2 = Sequential()\n",
        "model2.add(keras.Input(shape=(X_train.shape[1], )))\n",
        "model2.add(\n",
        "        Dense(\n",
        "            units=32,\n",
        "            use_bias=True,\n",
        "            activation='tanh',\n",
        "            kernel_initializer=HeNormal(seed=24),\n",
        "            bias_initializer='zeros'\n",
        "        ))\n",
        "model2.add(\n",
        "        Dense(\n",
        "            units=32,\n",
        "            use_bias=True,\n",
        "            activation='tanh',\n",
        "            kernel_initializer=HeNormal(seed=24),\n",
        "            bias_initializer='zeros'\n",
        "        ))\n",
        "model2.add(\n",
        "        Dense(\n",
        "            units=32,\n",
        "            use_bias=True,\n",
        "            activation='tanh',\n",
        "            kernel_initializer=HeNormal(seed=24),\n",
        "            bias_initializer='zeros'\n",
        "        ))\n",
        "model2.add(\n",
        "        Dense(\n",
        "            units=1,\n",
        "            use_bias=True,\n",
        "            activation='sigmoid',\n",
        "            kernel_initializer=HeNormal(seed=24),\n",
        "            bias_initializer='zeros'\n",
        "        ))\n",
        "\n",
        "model2.compile(optimizer=SGD(learning_rate=0.03), loss='binary_crossentropy', metrics=['accuracy'])\n",
        "\n",
        "history2 = model2.fit(X_train, y_train, validation_split=.33, epochs=epochs, batch_size=batch_size, verbose=0)"
      ]
    },
    {
      "cell_type": "code",
      "execution_count": 87,
      "metadata": {
        "colab": {
          "base_uri": "https://localhost:8080/"
        },
        "id": "EOiuZGjvSjC5",
        "outputId": "8e12c49c-728d-4f63-8254-5e04748a70ed"
      },
      "outputs": [
        {
          "name": "stdout",
          "output_type": "stream",
          "text": [
            "Accuracy modelo 1 (tanh-relu-tanh): 0.792\n",
            "Accuracy modelo 2 (tanh-tanh-tanh): 0.802\n"
          ]
        }
      ],
      "source": [
        "# ====== Evaluar ambos modelos ======\n",
        "acc1 = model1.evaluate(X_test, y_test, verbose=0)[1]\n",
        "acc2 = model2.evaluate(X_test, y_test, verbose=0)[1]\n",
        "\n",
        "print(f\"Accuracy modelo 1 (tanh-relu-tanh): {acc1:.3f}\")\n",
        "print(f\"Accuracy modelo 2 (tanh-tanh-tanh): {acc2:.3f}\")\n"
      ]
    },
    {
      "cell_type": "code",
      "execution_count": 88,
      "metadata": {
        "id": "hbCRNF-bV05b"
      },
      "outputs": [],
      "source": [
        "def viz_loss(history):\n",
        "    epochs_ = len(history['accuracy'])\n",
        "    fig, ax = plt.subplots(1, 2, figsize=(10, 4))\n",
        "    ax[0].plot(history['accuracy'])\n",
        "    ax[0].plot(history['val_accuracy'])\n",
        "    ax[0].set_xticks(np.arange(epochs_), np.arange(1, epochs_+1))\n",
        "    ax[0].set_title('model accuracy')\n",
        "    ax[0].set_ylabel('accuracy')\n",
        "    ax[0].set_xlabel('epoch')\n",
        "    ax[0].legend(['train', 'test'], loc='lower right')\n",
        "\n",
        "\n",
        "    # summarize history for loss\n",
        "    ax[1].plot(history['loss'])\n",
        "    ax[1].plot(history['val_loss'])\n",
        "    ax[1].set_xticks(np.arange(epochs_), np.arange(1, epochs_+1))\n",
        "    ax[1].set_title('model loss')\n",
        "    ax[1].set_ylabel('loss')\n",
        "    ax[1].set_xlabel('epoch')\n",
        "    ax[1].legend(['train', 'test'], loc='upper center')\n",
        "\n",
        "    plt.tight_layout()\n",
        "    plt.show()\n"
      ]
    },
    {
      "cell_type": "code",
      "execution_count": 89,
      "metadata": {
        "colab": {
          "base_uri": "https://localhost:8080/",
          "height": 413
        },
        "id": "JDBfbCRafnfF",
        "outputId": "b96d8db3-e282-4444-f28d-d1c9312990a1"
      },
      "outputs": [
        {
          "data": {
            "image/png": "[encoded data removed]",
            "text/plain": [
              "<Figure size 1000x400 with 2 Axes>"
            ]
          },
          "metadata": {},
          "output_type": "display_data"
        }
      ],
      "source": [
        "viz_loss(history1.history)"
      ]
    },
    {
      "cell_type": "code",
      "execution_count": 90,
      "metadata": {
        "colab": {
          "base_uri": "https://localhost:8080/",
          "height": 413
        },
        "id": "b1zRCTWvXKGu",
        "outputId": "8df25e6b-4d83-44a0-ad79-4a9eee3bbad3"
      },
      "outputs": [
        {
          "data": {
            "image/png": "[encoded data removed]",
            "text/plain": [
              "<Figure size 1000x400 with 2 Axes>"
            ]
          },
          "metadata": {},
          "output_type": "display_data"
        }
      ],
      "source": [
        "viz_loss(history2.history)"
      ]
    },
    {
      "cell_type": "markdown",
      "metadata": {
        "id": "KYGpPTgKf0nD"
      },
      "source": [
        "# Punto 4\n",
        "\n",
        "---\n",
        "Construye una red neuronal con regularización Dropout aplicando búsqueda de grilla para tres fold\n",
        "\n",
        "\n",
        "1. Cantidad de capas ocultas: de 3 o 4\n",
        "2. Método de optimización: Adam o SGD\n",
        "3. Learning_rate: 0.03 y 0.06\n",
        "4. Cantidad de neuronas en las capas ocultas: 20\n",
        "5. Funciones de activación en las capas ocultas: tanh\n",
        "6. Rate para Dropout: 0.001\n",
        "7. Inicialización de los pesos: `glorot_normal`, ` glorot_uniform`\n",
        "\n",
        "\n",
        "\n"
      ]
    },
    {
      "cell_type": "code",
      "execution_count": 91,
      "metadata": {
        "id": "GFEzwxK9hj51"
      },
      "outputs": [],
      "source": [
        "param_grid = {\n",
        "    'model__n_layers': [3, 4],\n",
        "    'model__optimizer': ['adam', 'sgd'],\n",
        "    'model__learning_rate': [0.03, 0.06],\n",
        "    'model__init': ['glorot_normal', 'glorot_uniform']\n",
        "}"
      ]
    },
    {
      "cell_type": "code",
      "execution_count": 95,
      "metadata": {
        "id": "W3Kk8x-cjKTw"
      },
      "outputs": [],
      "source": [
        "def build_model(n_layers=3, optimizer='adam', learning_rate=0.03, init='glorot_uniform', dropout_rate=0.001):\n",
        "    if optimizer == 'adam':\n",
        "        opt = Adam(learning_rate=learning_rate)\n",
        "    else:\n",
        "        opt = SGD(learning_rate=learning_rate)\n",
        "\n",
        "    model = Sequential()\n",
        "    model.add(keras.Input(shape=(X_train.shape[1], )))\n",
        "    for _ in range(n_layers - 1):\n",
        "        model.add(Dense(20, activation='tanh', kernel_initializer=init))\n",
        "        model.add(Dropout(dropout_rate))\n",
        "\n",
        "    model.add(Dense(1, activation='sigmoid'))  # Binary classification\n",
        "\n",
        "    model.compile(loss='binary_crossentropy', optimizer=opt, metrics=['accuracy'])\n",
        "    return model"
      ]
    },
    {
      "cell_type": "code",
      "execution_count": 96,
      "metadata": {
        "id": "bEWjE6MMjtLj"
      },
      "outputs": [],
      "source": [
        "model3 = KerasClassifier(\n",
        "    model=build_model,\n",
        "    epochs=10,\n",
        "    batch_size=128,\n",
        "    verbose=0\n",
        ")"
      ]
    },
    {
      "cell_type": "code",
      "execution_count": 97,
      "metadata": {
        "colab": {
          "base_uri": "https://localhost:8080/",
          "height": 356
        },
        "id": "UMg2rpwDj6AS",
        "outputId": "bc5fb9a0-30a4-47f4-d9a0-94e7ae56a184"
      },
      "outputs": [],
      "source": [
        "grid = GridSearchCV(estimator=model3, param_grid=param_grid, cv=3, scoring='accuracy', verbose=0)\n",
        "grid_result = grid.fit(X_train, y_train)\n",
        "\n",
        "# Evaluar el mejor modelo\n",
        "best_model = grid_result.best_estimator_\n",
        "y_pred = best_model.predict(X_test)\n",
        "y_prob = best_model.predict_proba(X_test)[:, 1]"
      ]
    },
    {
      "cell_type": "markdown",
      "metadata": {
        "id": "-So_aMgghXx0"
      },
      "source": [
        "Mostrar los hiper parámetros óptimos encontrados por la búsqueda de grilla"
      ]
    },
    {
      "cell_type": "code",
      "execution_count": 98,
      "metadata": {},
      "outputs": [
        {
          "name": "stdout",
          "output_type": "stream",
          "text": [
            "Mejores Hiperparámetros:\n"
          ]
        },
        {
          "data": {
            "text/plain": [
              "{'model__init': 'glorot_uniform',\n",
              " 'model__learning_rate': 0.03,\n",
              " 'model__n_layers': 3,\n",
              " 'model__optimizer': 'adam'}"
            ]
          },
          "execution_count": 98,
          "metadata": {},
          "output_type": "execute_result"
        }
      ],
      "source": [
        "print('Mejores Hiperparámetros:')\n",
        "grid_result.best_params_"
      ]
    },
    {
      "cell_type": "markdown",
      "metadata": {},
      "source": [
        "Muestra la curva ROC para el mejor modelo incluyendo el AUC."
      ]
    },
    {
      "cell_type": "code",
      "execution_count": 99,
      "metadata": {
        "id": "nWixIbV5kKDM"
      },
      "outputs": [
        {
          "data": {
            "image/png": "[encoded data removed]",
            "text/plain": [
              "<Figure size 640x480 with 1 Axes>"
            ]
          },
          "metadata": {},
          "output_type": "display_data"
        },
        {
          "data": {
            "text/plain": [
              "{'0': {'precision': 0.8103417103597903,\n",
              "  'recall': 0.9303773819902852,\n",
              "  'f1-score': 0.8662208650612655,\n",
              "  'support': 24087.0},\n",
              " '1': {'precision': 0.8401486988847584,\n",
              "  'recall': 0.6269293690874174,\n",
              "  'f1-score': 0.7180448065173116,\n",
              "  'support': 14059.0},\n",
              " 'accuracy': 0.8185392963875636,\n",
              " 'macro avg': {'precision': 0.8252452046222744,\n",
              "  'recall': 0.7786533755388513,\n",
              "  'f1-score': 0.7921328357892885,\n",
              "  'support': 38146.0},\n",
              " 'weighted avg': {'precision': 0.8213273039127847,\n",
              "  'recall': 0.8185392963875636,\n",
              "  'f1-score': 0.8116094455921351,\n",
              "  'support': 38146.0}}"
            ]
          },
          "execution_count": 99,
          "metadata": {},
          "output_type": "execute_result"
        }
      ],
      "source": [
        "conf_matrix = confusion_matrix(y_test, y_pred)\n",
        "report = classification_report(y_test, y_pred, output_dict=True)\n",
        "roc_auc = roc_auc_score(y_test, y_prob)\n",
        "fpr, tpr, _ = roc_curve(y_test, y_prob)\n",
        "\n",
        "plt.plot(fpr, tpr, lw=2, label=f'Mejor Modelo (AUC = {roc_auc:.3f})')\n",
        "plt.title('Curvas ROC - Modelos con Hiperparámetros Óptimos')\n",
        "plt.plot([0, 1], [0, 1], color='gray', linestyle='--')\n",
        "plt.xlabel('Tasa de Falsos Positivos')\n",
        "plt.ylabel('Tasa de Verdaderos Positivos')\n",
        "plt.legend(loc='lower right')\n",
        "plt.grid(True)\n",
        "plt.tight_layout()\n",
        "plt.show()\n",
        "\n",
        "report"
      ]
    },
    {
      "cell_type": "markdown",
      "metadata": {
        "id": "0fjojZrvhlNJ"
      },
      "source": [
        "# Punto 5\n",
        "\n",
        "---\n",
        "\n"
      ]
    },
    {
      "cell_type": "markdown",
      "metadata": {
        "id": "eSMo1E9liDWa"
      },
      "source": [
        "Del conjunto original (sin los valores excluidos) escoge al azar cinco observaciones en que “deposit_type_Non Refund” sea cero, y con esto realiza una predicción usando el mejor modelo encontrado por la búsqueda de grilla anterior. Comenta los resultados.\n"
      ]
    },
    {
      "cell_type": "code",
      "execution_count": 100,
      "metadata": {},
      "outputs": [
        {
          "data": {
            "text/plain": [
              "Index(['is_canceled', 'lead_time', 'arrival_date_week_number',\n",
              "       'arrival_date_day_of_month', 'stays_in_weekend_nights',\n",
              "       'stays_in_week_nights', 'adults', 'children', 'babies',\n",
              "       'is_repeated_guest', 'previous_cancellations',\n",
              "       'previous_bookings_not_canceled', 'booking_changes',\n",
              "       'days_in_waiting_list', 'adr', 'required_car_parking_spaces',\n",
              "       'total_of_special_requests', 'arrival_month_num', 'meal_encoded',\n",
              "       'hotel_encoded', 'segment_Aviation', 'segment_Complementary',\n",
              "       'segment_Corporate', 'segment_Direct', 'segment_Groups',\n",
              "       'segment_Offline TA/TO', 'segment_Online TA', 'channel_Corporate',\n",
              "       'channel_Direct', 'channel_GDS', 'channel_TA/TO', 'channel_Undefined',\n",
              "       'room_A', 'room_B', 'room_C', 'room_D', 'room_E', 'room_F', 'room_G',\n",
              "       'room_H', 'room_L', 'room_P', 'deposit_No Deposit',\n",
              "       'deposit_Non Refund', 'deposit_Refundable', 'customer_Contract',\n",
              "       'customer_Group', 'customer_Transient', 'customer_Transient-Party'],\n",
              "      dtype='object')"
            ]
          },
          "execution_count": 100,
          "metadata": {},
          "output_type": "execute_result"
        }
      ],
      "source": [
        "data.columns"
      ]
    },
    {
      "cell_type": "code",
      "execution_count": 111,
      "metadata": {
        "id": "t_316JuMiHQ8"
      },
      "outputs": [
        {
          "data": {
            "text/html": [
              "<div>\n",
              "<style scoped>\n",
              "    .dataframe tbody tr th:only-of-type {\n",
              "        vertical-align: middle;\n",
              "    }\n",
              "\n",
              "    .dataframe tbody tr th {\n",
              "        vertical-align: top;\n",
              "    }\n",
              "\n",
              "    .dataframe thead th {\n",
              "        text-align: right;\n",
              "    }\n",
              "</style>\n",
              "<table border=\"1\" class=\"dataframe\">\n",
              "  <thead>\n",
              "    <tr style=\"text-align: right;\">\n",
              "      <th></th>\n",
              "      <th>is_canceled</th>\n",
              "      <th>lead_time</th>\n",
              "      <th>arrival_date_week_number</th>\n",
              "      <th>arrival_date_day_of_month</th>\n",
              "      <th>stays_in_weekend_nights</th>\n",
              "      <th>stays_in_week_nights</th>\n",
              "      <th>adults</th>\n",
              "      <th>children</th>\n",
              "      <th>babies</th>\n",
              "      <th>is_repeated_guest</th>\n",
              "      <th>...</th>\n",
              "      <th>room_H</th>\n",
              "      <th>room_L</th>\n",
              "      <th>room_P</th>\n",
              "      <th>deposit_No Deposit</th>\n",
              "      <th>deposit_Non Refund</th>\n",
              "      <th>deposit_Refundable</th>\n",
              "      <th>customer_Contract</th>\n",
              "      <th>customer_Group</th>\n",
              "      <th>customer_Transient</th>\n",
              "      <th>customer_Transient-Party</th>\n",
              "    </tr>\n",
              "  </thead>\n",
              "  <tbody>\n",
              "    <tr>\n",
              "      <th>79037</th>\n",
              "      <td>0</td>\n",
              "      <td>0.001357</td>\n",
              "      <td>0.807692</td>\n",
              "      <td>0.633333</td>\n",
              "      <td>0.000000</td>\n",
              "      <td>0.02</td>\n",
              "      <td>0.018182</td>\n",
              "      <td>0.0</td>\n",
              "      <td>0.0</td>\n",
              "      <td>0</td>\n",
              "      <td>...</td>\n",
              "      <td>0</td>\n",
              "      <td>0</td>\n",
              "      <td>0</td>\n",
              "      <td>1</td>\n",
              "      <td>0</td>\n",
              "      <td>0</td>\n",
              "      <td>1</td>\n",
              "      <td>0</td>\n",
              "      <td>0</td>\n",
              "      <td>0</td>\n",
              "    </tr>\n",
              "    <tr>\n",
              "      <th>96247</th>\n",
              "      <td>0</td>\n",
              "      <td>0.005427</td>\n",
              "      <td>0.673077</td>\n",
              "      <td>0.933333</td>\n",
              "      <td>0.052632</td>\n",
              "      <td>0.02</td>\n",
              "      <td>0.018182</td>\n",
              "      <td>0.0</td>\n",
              "      <td>0.0</td>\n",
              "      <td>0</td>\n",
              "      <td>...</td>\n",
              "      <td>0</td>\n",
              "      <td>0</td>\n",
              "      <td>0</td>\n",
              "      <td>1</td>\n",
              "      <td>0</td>\n",
              "      <td>0</td>\n",
              "      <td>0</td>\n",
              "      <td>0</td>\n",
              "      <td>1</td>\n",
              "      <td>0</td>\n",
              "    </tr>\n",
              "    <tr>\n",
              "      <th>9072</th>\n",
              "      <td>1</td>\n",
              "      <td>0.073270</td>\n",
              "      <td>0.826923</td>\n",
              "      <td>0.833333</td>\n",
              "      <td>0.105263</td>\n",
              "      <td>0.12</td>\n",
              "      <td>0.036364</td>\n",
              "      <td>0.0</td>\n",
              "      <td>0.0</td>\n",
              "      <td>0</td>\n",
              "      <td>...</td>\n",
              "      <td>0</td>\n",
              "      <td>0</td>\n",
              "      <td>0</td>\n",
              "      <td>1</td>\n",
              "      <td>0</td>\n",
              "      <td>0</td>\n",
              "      <td>0</td>\n",
              "      <td>0</td>\n",
              "      <td>1</td>\n",
              "      <td>0</td>\n",
              "    </tr>\n",
              "    <tr>\n",
              "      <th>56379</th>\n",
              "      <td>1</td>\n",
              "      <td>0.084125</td>\n",
              "      <td>0.692308</td>\n",
              "      <td>0.100000</td>\n",
              "      <td>0.105263</td>\n",
              "      <td>0.04</td>\n",
              "      <td>0.036364</td>\n",
              "      <td>0.0</td>\n",
              "      <td>0.0</td>\n",
              "      <td>0</td>\n",
              "      <td>...</td>\n",
              "      <td>0</td>\n",
              "      <td>0</td>\n",
              "      <td>0</td>\n",
              "      <td>1</td>\n",
              "      <td>0</td>\n",
              "      <td>0</td>\n",
              "      <td>0</td>\n",
              "      <td>0</td>\n",
              "      <td>1</td>\n",
              "      <td>0</td>\n",
              "    </tr>\n",
              "    <tr>\n",
              "      <th>7768</th>\n",
              "      <td>1</td>\n",
              "      <td>0.108548</td>\n",
              "      <td>0.653846</td>\n",
              "      <td>0.833333</td>\n",
              "      <td>0.000000</td>\n",
              "      <td>0.02</td>\n",
              "      <td>0.036364</td>\n",
              "      <td>0.0</td>\n",
              "      <td>0.0</td>\n",
              "      <td>0</td>\n",
              "      <td>...</td>\n",
              "      <td>0</td>\n",
              "      <td>0</td>\n",
              "      <td>0</td>\n",
              "      <td>1</td>\n",
              "      <td>0</td>\n",
              "      <td>0</td>\n",
              "      <td>0</td>\n",
              "      <td>0</td>\n",
              "      <td>1</td>\n",
              "      <td>0</td>\n",
              "    </tr>\n",
              "  </tbody>\n",
              "</table>\n",
              "<p>5 rows × 49 columns</p>\n",
              "</div>"
            ],
            "text/plain": [
              "       is_canceled  lead_time  arrival_date_week_number  \\\n",
              "79037            0   0.001357                  0.807692   \n",
              "96247            0   0.005427                  0.673077   \n",
              "9072             1   0.073270                  0.826923   \n",
              "56379            1   0.084125                  0.692308   \n",
              "7768             1   0.108548                  0.653846   \n",
              "\n",
              "       arrival_date_day_of_month  stays_in_weekend_nights  \\\n",
              "79037                   0.633333                 0.000000   \n",
              "96247                   0.933333                 0.052632   \n",
              "9072                    0.833333                 0.105263   \n",
              "56379                   0.100000                 0.105263   \n",
              "7768                    0.833333                 0.000000   \n",
              "\n",
              "       stays_in_week_nights    adults  children  babies  is_repeated_guest  \\\n",
              "79037                  0.02  0.018182       0.0     0.0                  0   \n",
              "96247                  0.02  0.018182       0.0     0.0                  0   \n",
              "9072                   0.12  0.036364       0.0     0.0                  0   \n",
              "56379                  0.04  0.036364       0.0     0.0                  0   \n",
              "7768                   0.02  0.036364       0.0     0.0                  0   \n",
              "\n",
              "       ...  room_H  room_L  room_P  deposit_No Deposit  deposit_Non Refund  \\\n",
              "79037  ...       0       0       0                   1                   0   \n",
              "96247  ...       0       0       0                   1                   0   \n",
              "9072   ...       0       0       0                   1                   0   \n",
              "56379  ...       0       0       0                   1                   0   \n",
              "7768   ...       0       0       0                   1                   0   \n",
              "\n",
              "       deposit_Refundable  customer_Contract  customer_Group  \\\n",
              "79037                   0                  1               0   \n",
              "96247                   0                  0               0   \n",
              "9072                    0                  0               0   \n",
              "56379                   0                  0               0   \n",
              "7768                    0                  0               0   \n",
              "\n",
              "       customer_Transient  customer_Transient-Party  \n",
              "79037                   0                         0  \n",
              "96247                   1                         0  \n",
              "9072                    1                         0  \n",
              "56379                   1                         0  \n",
              "7768                    1                         0  \n",
              "\n",
              "[5 rows x 49 columns]"
            ]
          },
          "execution_count": 111,
          "metadata": {},
          "output_type": "execute_result"
        }
      ],
      "source": [
        "samples_5 = data[data['deposit_Non Refund']==0]\n",
        "samples_5 = samples_5.sample(n=5)\n",
        "samples_5 "
      ]
    },
    {
      "cell_type": "code",
      "execution_count": 112,
      "metadata": {},
      "outputs": [
        {
          "data": {
            "text/plain": [
              "79037    0\n",
              "96247    0\n",
              "9072     1\n",
              "56379    1\n",
              "7768     1\n",
              "Name: is_canceled, dtype: int64"
            ]
          },
          "execution_count": 112,
          "metadata": {},
          "output_type": "execute_result"
        }
      ],
      "source": [
        "samples_5_X = samples_5.drop(columns=['is_canceled'])\n",
        "samples_5_y = samples_5['is_canceled']\n",
        "samples_5_y"
      ]
    },
    {
      "cell_type": "code",
      "execution_count": 113,
      "metadata": {},
      "outputs": [
        {
          "data": {
            "text/html": [
              "<div>\n",
              "<style scoped>\n",
              "    .dataframe tbody tr th:only-of-type {\n",
              "        vertical-align: middle;\n",
              "    }\n",
              "\n",
              "    .dataframe tbody tr th {\n",
              "        vertical-align: top;\n",
              "    }\n",
              "\n",
              "    .dataframe thead th {\n",
              "        text-align: right;\n",
              "    }\n",
              "</style>\n",
              "<table border=\"1\" class=\"dataframe\">\n",
              "  <thead>\n",
              "    <tr style=\"text-align: right;\">\n",
              "      <th></th>\n",
              "      <th>Real</th>\n",
              "      <th>Predicción</th>\n",
              "      <th>Probabilidad</th>\n",
              "    </tr>\n",
              "  </thead>\n",
              "  <tbody>\n",
              "    <tr>\n",
              "      <th>0</th>\n",
              "      <td>0</td>\n",
              "      <td>0</td>\n",
              "      <td>0.067807</td>\n",
              "    </tr>\n",
              "    <tr>\n",
              "      <th>1</th>\n",
              "      <td>0</td>\n",
              "      <td>0</td>\n",
              "      <td>0.056479</td>\n",
              "    </tr>\n",
              "    <tr>\n",
              "      <th>2</th>\n",
              "      <td>1</td>\n",
              "      <td>1</td>\n",
              "      <td>0.588283</td>\n",
              "    </tr>\n",
              "    <tr>\n",
              "      <th>3</th>\n",
              "      <td>1</td>\n",
              "      <td>0</td>\n",
              "      <td>0.311317</td>\n",
              "    </tr>\n",
              "    <tr>\n",
              "      <th>4</th>\n",
              "      <td>1</td>\n",
              "      <td>1</td>\n",
              "      <td>0.749427</td>\n",
              "    </tr>\n",
              "  </tbody>\n",
              "</table>\n",
              "</div>"
            ],
            "text/plain": [
              "   Real  Predicción  Probabilidad\n",
              "0     0           0      0.067807\n",
              "1     0           0      0.056479\n",
              "2     1           1      0.588283\n",
              "3     1           0      0.311317\n",
              "4     1           1      0.749427"
            ]
          },
          "execution_count": 113,
          "metadata": {},
          "output_type": "execute_result"
        }
      ],
      "source": [
        "y_pred_5 = best_model.predict(samples_5_X)\n",
        "\n",
        "y_prob_5 = best_model.predict_proba(samples_5_X)[:, 1]\n",
        "\n",
        "resultados = pd.DataFrame({\n",
        "    'Real': samples_5_y.values,\n",
        "    'Predicción': y_pred_5,\n",
        "    'Probabilidad': y_prob_5\n",
        "})\n",
        "\n",
        "resultados"
      ]
    },
    {
      "cell_type": "markdown",
      "metadata": {},
      "source": [
        "✅ Predicciones correctas: Las observaciones 0, 1, 2 y 4 fueron clasificadas correctamente. Es decir, el modelo acertó en 4 de 5 casos.\n",
        "\n",
        "⚠️ Error del modelo: La observación 3 fue mal clasificada. Aunque el valor real es 1 (cancelada), el modelo predijo 0 (no cancelada). Sin embargo, la probabilidad asociada fue de 31%, lo que indica incertidumbre razonable.\n",
        "\n",
        "📈 Confianza del modelo:\n",
        "\n",
        "Para los casos negativos (no cancelación), el modelo mostró alta confianza (probabilidades < 0.07).\n",
        "\n",
        "Para los casos positivos (cancelación), las probabilidades fueron más variadas, pero razonablemente altas en las predicciones correctas (0.588 y 0.749). "
      ]
    }
  ],
  "metadata": {
    "colab": {
      "provenance": []
    },
    "kernelspec": {
      "display_name": "Python 3",
      "name": "python3"
    },
    "language_info": {
      "codemirror_mode": {
        "name": "ipython",
        "version": 3
      },
      "file_extension": ".py",
      "mimetype": "text/x-python",
      "name": "python",
      "nbconvert_exporter": "python",
      "pygments_lexer": "ipython3",
      "version": "3.12.3"
    }
  },
  "nbformat": 4,
  "nbformat_minor": 0
}
